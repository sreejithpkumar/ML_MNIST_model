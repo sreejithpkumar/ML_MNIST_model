{
  "nbformat": 4,
  "nbformat_minor": 0,
  "metadata": {
    "colab": {
      "provenance": [],
      "authorship_tag": "ABX9TyMcL9SgX5Q3Y3lQIe2wr8mq",
      "include_colab_link": true
    },
    "kernelspec": {
      "name": "python3",
      "display_name": "Python 3"
    },
    "language_info": {
      "name": "python"
    },
    "widgets": {
      "application/vnd.jupyter.widget-state+json": {
        "06929c79eb2a4077a80124cf48a941a5": {
          "model_module": "@jupyter-widgets/controls",
          "model_name": "HBoxModel",
          "model_module_version": "1.5.0",
          "state": {
            "_dom_classes": [],
            "_model_module": "@jupyter-widgets/controls",
            "_model_module_version": "1.5.0",
            "_model_name": "HBoxModel",
            "_view_count": null,
            "_view_module": "@jupyter-widgets/controls",
            "_view_module_version": "1.5.0",
            "_view_name": "HBoxView",
            "box_style": "",
            "children": [
              "IPY_MODEL_36dc5a55ad8449578578ed5d5379550d",
              "IPY_MODEL_76be7db248f3436a8eeb55696670c3ef",
              "IPY_MODEL_253c346eb5da4b6c881266b138096b2a"
            ],
            "layout": "IPY_MODEL_2ef01d2710bb48169e3150cd884727dd"
          }
        },
        "36dc5a55ad8449578578ed5d5379550d": {
          "model_module": "@jupyter-widgets/controls",
          "model_name": "HTMLModel",
          "model_module_version": "1.5.0",
          "state": {
            "_dom_classes": [],
            "_model_module": "@jupyter-widgets/controls",
            "_model_module_version": "1.5.0",
            "_model_name": "HTMLModel",
            "_view_count": null,
            "_view_module": "@jupyter-widgets/controls",
            "_view_module_version": "1.5.0",
            "_view_name": "HTMLView",
            "description": "",
            "description_tooltip": null,
            "layout": "IPY_MODEL_b9a318e6f54b40dc855b83eb4275e41f",
            "placeholder": "​",
            "style": "IPY_MODEL_a299a41966bf4d9c962bfe2a75de29f3",
            "value": "Dl Completed...: 100%"
          }
        },
        "76be7db248f3436a8eeb55696670c3ef": {
          "model_module": "@jupyter-widgets/controls",
          "model_name": "FloatProgressModel",
          "model_module_version": "1.5.0",
          "state": {
            "_dom_classes": [],
            "_model_module": "@jupyter-widgets/controls",
            "_model_module_version": "1.5.0",
            "_model_name": "FloatProgressModel",
            "_view_count": null,
            "_view_module": "@jupyter-widgets/controls",
            "_view_module_version": "1.5.0",
            "_view_name": "ProgressView",
            "bar_style": "success",
            "description": "",
            "description_tooltip": null,
            "layout": "IPY_MODEL_bd9924b3bb434617bbace146da4402e7",
            "max": 5,
            "min": 0,
            "orientation": "horizontal",
            "style": "IPY_MODEL_a46e4769fd804e85a94cc6924dfb5b35",
            "value": 5
          }
        },
        "253c346eb5da4b6c881266b138096b2a": {
          "model_module": "@jupyter-widgets/controls",
          "model_name": "HTMLModel",
          "model_module_version": "1.5.0",
          "state": {
            "_dom_classes": [],
            "_model_module": "@jupyter-widgets/controls",
            "_model_module_version": "1.5.0",
            "_model_name": "HTMLModel",
            "_view_count": null,
            "_view_module": "@jupyter-widgets/controls",
            "_view_module_version": "1.5.0",
            "_view_name": "HTMLView",
            "description": "",
            "description_tooltip": null,
            "layout": "IPY_MODEL_2361c1bc52384ce2a07b6ece9fe12342",
            "placeholder": "​",
            "style": "IPY_MODEL_3df3ea2fdf764e41a4a921ab76154930",
            "value": " 5/5 [00:00&lt;00:00, 10.39 file/s]"
          }
        },
        "2ef01d2710bb48169e3150cd884727dd": {
          "model_module": "@jupyter-widgets/base",
          "model_name": "LayoutModel",
          "model_module_version": "1.2.0",
          "state": {
            "_model_module": "@jupyter-widgets/base",
            "_model_module_version": "1.2.0",
            "_model_name": "LayoutModel",
            "_view_count": null,
            "_view_module": "@jupyter-widgets/base",
            "_view_module_version": "1.2.0",
            "_view_name": "LayoutView",
            "align_content": null,
            "align_items": null,
            "align_self": null,
            "border": null,
            "bottom": null,
            "display": null,
            "flex": null,
            "flex_flow": null,
            "grid_area": null,
            "grid_auto_columns": null,
            "grid_auto_flow": null,
            "grid_auto_rows": null,
            "grid_column": null,
            "grid_gap": null,
            "grid_row": null,
            "grid_template_areas": null,
            "grid_template_columns": null,
            "grid_template_rows": null,
            "height": null,
            "justify_content": null,
            "justify_items": null,
            "left": null,
            "margin": null,
            "max_height": null,
            "max_width": null,
            "min_height": null,
            "min_width": null,
            "object_fit": null,
            "object_position": null,
            "order": null,
            "overflow": null,
            "overflow_x": null,
            "overflow_y": null,
            "padding": null,
            "right": null,
            "top": null,
            "visibility": null,
            "width": null
          }
        },
        "b9a318e6f54b40dc855b83eb4275e41f": {
          "model_module": "@jupyter-widgets/base",
          "model_name": "LayoutModel",
          "model_module_version": "1.2.0",
          "state": {
            "_model_module": "@jupyter-widgets/base",
            "_model_module_version": "1.2.0",
            "_model_name": "LayoutModel",
            "_view_count": null,
            "_view_module": "@jupyter-widgets/base",
            "_view_module_version": "1.2.0",
            "_view_name": "LayoutView",
            "align_content": null,
            "align_items": null,
            "align_self": null,
            "border": null,
            "bottom": null,
            "display": null,
            "flex": null,
            "flex_flow": null,
            "grid_area": null,
            "grid_auto_columns": null,
            "grid_auto_flow": null,
            "grid_auto_rows": null,
            "grid_column": null,
            "grid_gap": null,
            "grid_row": null,
            "grid_template_areas": null,
            "grid_template_columns": null,
            "grid_template_rows": null,
            "height": null,
            "justify_content": null,
            "justify_items": null,
            "left": null,
            "margin": null,
            "max_height": null,
            "max_width": null,
            "min_height": null,
            "min_width": null,
            "object_fit": null,
            "object_position": null,
            "order": null,
            "overflow": null,
            "overflow_x": null,
            "overflow_y": null,
            "padding": null,
            "right": null,
            "top": null,
            "visibility": null,
            "width": null
          }
        },
        "a299a41966bf4d9c962bfe2a75de29f3": {
          "model_module": "@jupyter-widgets/controls",
          "model_name": "DescriptionStyleModel",
          "model_module_version": "1.5.0",
          "state": {
            "_model_module": "@jupyter-widgets/controls",
            "_model_module_version": "1.5.0",
            "_model_name": "DescriptionStyleModel",
            "_view_count": null,
            "_view_module": "@jupyter-widgets/base",
            "_view_module_version": "1.2.0",
            "_view_name": "StyleView",
            "description_width": ""
          }
        },
        "bd9924b3bb434617bbace146da4402e7": {
          "model_module": "@jupyter-widgets/base",
          "model_name": "LayoutModel",
          "model_module_version": "1.2.0",
          "state": {
            "_model_module": "@jupyter-widgets/base",
            "_model_module_version": "1.2.0",
            "_model_name": "LayoutModel",
            "_view_count": null,
            "_view_module": "@jupyter-widgets/base",
            "_view_module_version": "1.2.0",
            "_view_name": "LayoutView",
            "align_content": null,
            "align_items": null,
            "align_self": null,
            "border": null,
            "bottom": null,
            "display": null,
            "flex": null,
            "flex_flow": null,
            "grid_area": null,
            "grid_auto_columns": null,
            "grid_auto_flow": null,
            "grid_auto_rows": null,
            "grid_column": null,
            "grid_gap": null,
            "grid_row": null,
            "grid_template_areas": null,
            "grid_template_columns": null,
            "grid_template_rows": null,
            "height": null,
            "justify_content": null,
            "justify_items": null,
            "left": null,
            "margin": null,
            "max_height": null,
            "max_width": null,
            "min_height": null,
            "min_width": null,
            "object_fit": null,
            "object_position": null,
            "order": null,
            "overflow": null,
            "overflow_x": null,
            "overflow_y": null,
            "padding": null,
            "right": null,
            "top": null,
            "visibility": null,
            "width": null
          }
        },
        "a46e4769fd804e85a94cc6924dfb5b35": {
          "model_module": "@jupyter-widgets/controls",
          "model_name": "ProgressStyleModel",
          "model_module_version": "1.5.0",
          "state": {
            "_model_module": "@jupyter-widgets/controls",
            "_model_module_version": "1.5.0",
            "_model_name": "ProgressStyleModel",
            "_view_count": null,
            "_view_module": "@jupyter-widgets/base",
            "_view_module_version": "1.2.0",
            "_view_name": "StyleView",
            "bar_color": null,
            "description_width": ""
          }
        },
        "2361c1bc52384ce2a07b6ece9fe12342": {
          "model_module": "@jupyter-widgets/base",
          "model_name": "LayoutModel",
          "model_module_version": "1.2.0",
          "state": {
            "_model_module": "@jupyter-widgets/base",
            "_model_module_version": "1.2.0",
            "_model_name": "LayoutModel",
            "_view_count": null,
            "_view_module": "@jupyter-widgets/base",
            "_view_module_version": "1.2.0",
            "_view_name": "LayoutView",
            "align_content": null,
            "align_items": null,
            "align_self": null,
            "border": null,
            "bottom": null,
            "display": null,
            "flex": null,
            "flex_flow": null,
            "grid_area": null,
            "grid_auto_columns": null,
            "grid_auto_flow": null,
            "grid_auto_rows": null,
            "grid_column": null,
            "grid_gap": null,
            "grid_row": null,
            "grid_template_areas": null,
            "grid_template_columns": null,
            "grid_template_rows": null,
            "height": null,
            "justify_content": null,
            "justify_items": null,
            "left": null,
            "margin": null,
            "max_height": null,
            "max_width": null,
            "min_height": null,
            "min_width": null,
            "object_fit": null,
            "object_position": null,
            "order": null,
            "overflow": null,
            "overflow_x": null,
            "overflow_y": null,
            "padding": null,
            "right": null,
            "top": null,
            "visibility": null,
            "width": null
          }
        },
        "3df3ea2fdf764e41a4a921ab76154930": {
          "model_module": "@jupyter-widgets/controls",
          "model_name": "DescriptionStyleModel",
          "model_module_version": "1.5.0",
          "state": {
            "_model_module": "@jupyter-widgets/controls",
            "_model_module_version": "1.5.0",
            "_model_name": "DescriptionStyleModel",
            "_view_count": null,
            "_view_module": "@jupyter-widgets/base",
            "_view_module_version": "1.2.0",
            "_view_name": "StyleView",
            "description_width": ""
          }
        }
      }
    }
  },
  "cells": [
    {
      "cell_type": "markdown",
      "metadata": {
        "id": "view-in-github",
        "colab_type": "text"
      },
      "source": [
        "<a href=\"https://colab.research.google.com/github/sreejithpkumar/ML_MNIST_model/blob/main/MNIST.ipynb\" target=\"_parent\"><img src=\"https://colab.research.google.com/assets/colab-badge.svg\" alt=\"Open In Colab\"/></a>"
      ]
    },
    {
      "cell_type": "code",
      "execution_count": null,
      "metadata": {
        "id": "U8oxfBqYdZjF"
      },
      "outputs": [],
      "source": [
        "import tensorflow as tf\n",
        "import numpy as np\n",
        "import matplotlib.pyplot as plt\n",
        "import tensorflow_datasets as tfds"
      ]
    },
    {
      "cell_type": "code",
      "source": [
        "Train_ds,Test_ds = tfds.load('mnist',split=['train[80%:]','test'],shuffle_files= 'True',as_supervised= True)"
      ],
      "metadata": {
        "id": "UZgY7iNGhO9L",
        "colab": {
          "base_uri": "https://localhost:8080/",
          "height": 84,
          "referenced_widgets": [
            "06929c79eb2a4077a80124cf48a941a5",
            "36dc5a55ad8449578578ed5d5379550d",
            "76be7db248f3436a8eeb55696670c3ef",
            "253c346eb5da4b6c881266b138096b2a",
            "2ef01d2710bb48169e3150cd884727dd",
            "b9a318e6f54b40dc855b83eb4275e41f",
            "a299a41966bf4d9c962bfe2a75de29f3",
            "bd9924b3bb434617bbace146da4402e7",
            "a46e4769fd804e85a94cc6924dfb5b35",
            "2361c1bc52384ce2a07b6ece9fe12342",
            "3df3ea2fdf764e41a4a921ab76154930"
          ]
        },
        "outputId": "7e81f3b2-e4ce-4198-97e1-862a184007b5"
      },
      "execution_count": null,
      "outputs": [
        {
          "output_type": "stream",
          "name": "stdout",
          "text": [
            "Downloading and preparing dataset 11.06 MiB (download: 11.06 MiB, generated: 21.00 MiB, total: 32.06 MiB) to /root/tensorflow_datasets/mnist/3.0.1...\n"
          ]
        },
        {
          "output_type": "display_data",
          "data": {
            "text/plain": [
              "Dl Completed...:   0%|          | 0/5 [00:00<?, ? file/s]"
            ],
            "application/vnd.jupyter.widget-view+json": {
              "version_major": 2,
              "version_minor": 0,
              "model_id": "06929c79eb2a4077a80124cf48a941a5"
            }
          },
          "metadata": {}
        },
        {
          "output_type": "stream",
          "name": "stdout",
          "text": [
            "Dataset mnist downloaded and prepared to /root/tensorflow_datasets/mnist/3.0.1. Subsequent calls will reuse this data.\n"
          ]
        }
      ]
    },
    {
      "cell_type": "code",
      "source": [
        "len(Train_ds)"
      ],
      "metadata": {
        "colab": {
          "base_uri": "https://localhost:8080/"
        },
        "id": "oP0HrBz3nUUb",
        "outputId": "b5562c9a-d1b5-4e46-df0b-7dd96828cefe"
      },
      "execution_count": null,
      "outputs": [
        {
          "output_type": "execute_result",
          "data": {
            "text/plain": [
              "12000"
            ]
          },
          "metadata": {},
          "execution_count": 3
        }
      ]
    },
    {
      "cell_type": "code",
      "source": [
        "dm = 10\n",
        "j = 1\n",
        "plt.figure(figsize= (15,15),)\n",
        "for i in Train_ds.take(10):\n",
        "    image,label = i\n",
        "    plt.subplot(5,5,j)\n",
        "    plt.imshow(image,cmap = 'gray')\n",
        "    plt.title(label.numpy())\n",
        "    plt.axis('off')\n",
        "    j += 1"
      ],
      "metadata": {
        "colab": {
          "base_uri": "https://localhost:8080/",
          "height": 497
        },
        "id": "qoPd7wadhtXW",
        "outputId": "7dbcfc36-3c21-40ff-9580-5dc60d98c3dc"
      },
      "execution_count": null,
      "outputs": [
        {
          "output_type": "display_data",
          "data": {
            "text/plain": [
              "<Figure size 1500x1500 with 10 Axes>"
            ],
            "image/png": "[encoded data removed]"
          },
          "metadata": {}
        }
      ]
    },
    {
      "cell_type": "code",
      "source": [
        "Train_ds"
      ],
      "metadata": {
        "colab": {
          "base_uri": "https://localhost:8080/"
        },
        "id": "0NR3t64VTtzM",
        "outputId": "ac3a31e6-5ca1-4282-dd3f-25e78cbc0fbf"
      },
      "execution_count": null,
      "outputs": [
        {
          "output_type": "execute_result",
          "data": {
            "text/plain": [
              "<_PrefetchDataset element_spec=(TensorSpec(shape=(28, 28, 1), dtype=tf.uint8, name=None), TensorSpec(shape=(), dtype=tf.int64, name=None))>"
            ]
          },
          "metadata": {},
          "execution_count": 5
        }
      ]
    },
    {
      "cell_type": "code",
      "source": [
        "x_train = []\n",
        "y_train = []\n",
        "for X_train , Y_train in Train_ds :\n",
        "  x_train.append(X_train)\n",
        "  y_train.append(Y_train)"
      ],
      "metadata": {
        "id": "M6Ze6X9aTv5q"
      },
      "execution_count": null,
      "outputs": []
    },
    {
      "cell_type": "code",
      "source": [
        "x_train = np.array(x_train)\n",
        "y_train = np.array(y_train)\n",
        "print(f'number of x_train is {len(x_train)}')\n",
        "print(f'number of y_train is {len(y_train)}')\n",
        "print(f'shape of x_train is {x_train.shape}')\n",
        "print(f'shape of y_train is {y_train.shape}')"
      ],
      "metadata": {
        "id": "2JQT9g_-UNof",
        "colab": {
          "base_uri": "https://localhost:8080/"
        },
        "outputId": "fa012e96-0f03-41bc-a99e-cd3f52482d25"
      },
      "execution_count": null,
      "outputs": [
        {
          "output_type": "stream",
          "name": "stdout",
          "text": [
            "number of x_train is 12000\n",
            "number of y_train is 12000\n",
            "shape of x_train is (12000, 28, 28, 1)\n",
            "shape of y_train is (12000,)\n"
          ]
        }
      ]
    },
    {
      "cell_type": "code",
      "source": [
        "y_hotcoded = tf.keras.utils.to_categorical(y_train,num_classes = 10)"
      ],
      "metadata": {
        "id": "2vrZPRZHfTjx"
      },
      "execution_count": null,
      "outputs": []
    },
    {
      "cell_type": "code",
      "source": [
        "x_test = []\n",
        "y_test = []\n",
        "for X_test , Y_test in Test_ds :\n",
        "  x_test.append(X_test)\n",
        "  y_test.append(Y_test)"
      ],
      "metadata": {
        "id": "9o30Tsxzmcd9"
      },
      "execution_count": null,
      "outputs": []
    },
    {
      "cell_type": "code",
      "source": [
        "x_test = np.array(x_test)\n",
        "y_test = np.array(y_test)\n",
        "print(f'number of x_test is {len(x_test)}')\n",
        "print(f'number of y_test is {len(y_test)}')\n",
        "print(f'shape of x_test is {x_test.shape}')\n",
        "print(f'shape of y_test is {y_test.shape}')"
      ],
      "metadata": {
        "colab": {
          "base_uri": "https://localhost:8080/"
        },
        "id": "brYtNc8om8oB",
        "outputId": "9dfb8617-1eef-41c8-e40d-aa36a2f1f22d"
      },
      "execution_count": null,
      "outputs": [
        {
          "output_type": "stream",
          "name": "stdout",
          "text": [
            "number of x_test is 10000\n",
            "number of y_test is 10000\n",
            "shape of x_test is (10000, 28, 28, 1)\n",
            "shape of y_test is (10000,)\n"
          ]
        }
      ]
    },
    {
      "cell_type": "code",
      "source": [
        "scalar = tf.keras.layers.Normalization(axis = -1)\n",
        "x_train = scalar(x_train)\n",
        "x_test  = scalar(x_test)"
      ],
      "metadata": {
        "id": "VGg6cehIdOe_"
      },
      "execution_count": null,
      "outputs": []
    },
    {
      "cell_type": "code",
      "source": [],
      "metadata": {
        "id": "XzDoh_zLxea-"
      },
      "execution_count": null,
      "outputs": []
    },
    {
      "cell_type": "code",
      "source": [
        "model = tf.keras.Sequential([\n",
        "               tf.keras.layers.Flatten(),\n",
        "               tf.keras.layers.Dense(128, activation= 'relu',kernel_regularizer=tf.keras.regularizers.L2(0.01),input_shape = (28, 28, 1))  ,\n",
        "               tf.keras.layers.Dense(64, activation= 'relu',kernel_regularizer=tf.keras.regularizers.L2(0.01))  ,\n",
        "               tf.keras.layers.Dense(15, activation= 'relu',kernel_regularizer=tf.keras.regularizers.L2(0.01))  ,\n",
        "               tf.keras.layers.Dense(10)\n",
        "\n",
        "])"
      ],
      "metadata": {
        "id": "XVVotSytVsRK"
      },
      "execution_count": null,
      "outputs": []
    },
    {
      "cell_type": "code",
      "source": [
        "model.compile(optimizer = 'adam',loss = tf.keras.losses.SparseCategoricalCrossentropy(from_logits= True),metrics=['accuracy',])"
      ],
      "metadata": {
        "id": "jEwJViUcbSNU"
      },
      "execution_count": null,
      "outputs": []
    },
    {
      "cell_type": "code",
      "source": [
        "history = model.fit(x_train,y_train,validation_data=(x_test,y_test) , epochs = 100 )"
      ],
      "metadata": {
        "colab": {
          "base_uri": "https://localhost:8080/"
        },
        "id": "6h65ElrCbmxf",
        "outputId": "bac710d5-949f-4edc-b535-5cccd9517ddd"
      },
      "execution_count": null,
      "outputs": [
        {
          "output_type": "stream",
          "name": "stdout",
          "text": [
            "Epoch 1/100\n",
            "375/375 [==============================] - 4s 8ms/step - loss: 5.0724 - accuracy: 0.1821 - val_loss: 4.1381 - val_accuracy: 0.2217\n",
            "Epoch 2/100\n",
            "375/375 [==============================] - 2s 7ms/step - loss: 3.6952 - accuracy: 0.3133 - val_loss: 3.3575 - val_accuracy: 0.3581\n",
            "Epoch 3/100\n",
            "375/375 [==============================] - 3s 9ms/step - loss: 3.1867 - accuracy: 0.3687 - val_loss: 2.9711 - val_accuracy: 0.3836\n",
            "Epoch 4/100\n",
            "375/375 [==============================] - 2s 5ms/step - loss: 2.7665 - accuracy: 0.3943 - val_loss: 2.5284 - val_accuracy: 0.4492\n",
            "Epoch 5/100\n",
            "375/375 [==============================] - 2s 5ms/step - loss: 2.0487 - accuracy: 0.5792 - val_loss: 1.6330 - val_accuracy: 0.7724\n",
            "Epoch 6/100\n",
            "375/375 [==============================] - 2s 5ms/step - loss: 1.3565 - accuracy: 0.8261 - val_loss: 1.1309 - val_accuracy: 0.8928\n",
            "Epoch 7/100\n",
            "375/375 [==============================] - 4s 10ms/step - loss: 0.9605 - accuracy: 0.9082 - val_loss: 1.0081 - val_accuracy: 0.8997\n",
            "Epoch 8/100\n",
            "375/375 [==============================] - 2s 5ms/step - loss: 0.7679 - accuracy: 0.9296 - val_loss: 0.8066 - val_accuracy: 0.9224\n",
            "Epoch 9/100\n",
            "375/375 [==============================] - 2s 5ms/step - loss: 0.6233 - accuracy: 0.9454 - val_loss: 0.6471 - val_accuracy: 0.9335\n",
            "Epoch 10/100\n",
            "375/375 [==============================] - 2s 5ms/step - loss: 0.5246 - accuracy: 0.9500 - val_loss: 0.5776 - val_accuracy: 0.9319\n",
            "Epoch 11/100\n",
            "375/375 [==============================] - 2s 5ms/step - loss: 0.4604 - accuracy: 0.9542 - val_loss: 0.5213 - val_accuracy: 0.9392\n",
            "Epoch 12/100\n",
            "375/375 [==============================] - 2s 5ms/step - loss: 0.4418 - accuracy: 0.9533 - val_loss: 0.5360 - val_accuracy: 0.9248\n",
            "Epoch 13/100\n",
            "375/375 [==============================] - 3s 8ms/step - loss: 0.3885 - accuracy: 0.9583 - val_loss: 0.5303 - val_accuracy: 0.9214\n",
            "Epoch 14/100\n",
            "375/375 [==============================] - 2s 5ms/step - loss: 0.3687 - accuracy: 0.9561 - val_loss: 0.4350 - val_accuracy: 0.9420\n",
            "Epoch 15/100\n",
            "375/375 [==============================] - 2s 4ms/step - loss: 0.3613 - accuracy: 0.9555 - val_loss: 0.4398 - val_accuracy: 0.9293\n",
            "Epoch 16/100\n",
            "375/375 [==============================] - 2s 5ms/step - loss: 0.3238 - accuracy: 0.9605 - val_loss: 0.4131 - val_accuracy: 0.9368\n",
            "Epoch 17/100\n",
            "375/375 [==============================] - 2s 5ms/step - loss: 0.3175 - accuracy: 0.9615 - val_loss: 0.3859 - val_accuracy: 0.9420\n",
            "Epoch 18/100\n",
            "375/375 [==============================] - 2s 5ms/step - loss: 0.3059 - accuracy: 0.9595 - val_loss: 0.4093 - val_accuracy: 0.9339\n",
            "Epoch 19/100\n",
            "375/375 [==============================] - 3s 7ms/step - loss: 0.3129 - accuracy: 0.9582 - val_loss: 0.4083 - val_accuracy: 0.9309\n",
            "Epoch 20/100\n",
            "375/375 [==============================] - 2s 6ms/step - loss: 0.2841 - accuracy: 0.9654 - val_loss: 0.3867 - val_accuracy: 0.9415\n",
            "Epoch 21/100\n",
            "375/375 [==============================] - 2s 5ms/step - loss: 0.3079 - accuracy: 0.9585 - val_loss: 0.3845 - val_accuracy: 0.9396\n",
            "Epoch 22/100\n",
            "375/375 [==============================] - 2s 5ms/step - loss: 0.2962 - accuracy: 0.9615 - val_loss: 0.3715 - val_accuracy: 0.9409\n",
            "Epoch 23/100\n",
            "375/375 [==============================] - 2s 5ms/step - loss: 0.2807 - accuracy: 0.9653 - val_loss: 0.3781 - val_accuracy: 0.9402\n",
            "Epoch 24/100\n",
            "375/375 [==============================] - 2s 4ms/step - loss: 0.2873 - accuracy: 0.9603 - val_loss: 0.3440 - val_accuracy: 0.9472\n",
            "Epoch 25/100\n",
            "375/375 [==============================] - 2s 5ms/step - loss: 0.2891 - accuracy: 0.9601 - val_loss: 0.3726 - val_accuracy: 0.9402\n",
            "Epoch 26/100\n",
            "375/375 [==============================] - 3s 8ms/step - loss: 0.2758 - accuracy: 0.9653 - val_loss: 0.3226 - val_accuracy: 0.9500\n",
            "Epoch 27/100\n",
            "375/375 [==============================] - 2s 5ms/step - loss: 0.2661 - accuracy: 0.9640 - val_loss: 0.3868 - val_accuracy: 0.9307\n",
            "Epoch 28/100\n",
            "375/375 [==============================] - 2s 5ms/step - loss: 0.2855 - accuracy: 0.9593 - val_loss: 0.3359 - val_accuracy: 0.9515\n",
            "Epoch 29/100\n",
            "375/375 [==============================] - 2s 4ms/step - loss: 0.2849 - accuracy: 0.9613 - val_loss: 0.3580 - val_accuracy: 0.9432\n",
            "Epoch 30/100\n",
            "375/375 [==============================] - 2s 5ms/step - loss: 0.2746 - accuracy: 0.9646 - val_loss: 0.3299 - val_accuracy: 0.9514\n",
            "Epoch 31/100\n",
            "375/375 [==============================] - 2s 5ms/step - loss: 0.2658 - accuracy: 0.9662 - val_loss: 0.4217 - val_accuracy: 0.9295\n",
            "Epoch 32/100\n",
            "375/375 [==============================] - 2s 5ms/step - loss: 0.2833 - accuracy: 0.9601 - val_loss: 0.4168 - val_accuracy: 0.9258\n",
            "Epoch 33/100\n",
            "375/375 [==============================] - 3s 9ms/step - loss: 0.2625 - accuracy: 0.9667 - val_loss: 0.3589 - val_accuracy: 0.9434\n",
            "Epoch 34/100\n",
            "375/375 [==============================] - 2s 5ms/step - loss: 0.2768 - accuracy: 0.9608 - val_loss: 0.3445 - val_accuracy: 0.9460\n",
            "Epoch 35/100\n",
            "375/375 [==============================] - 2s 5ms/step - loss: 0.2664 - accuracy: 0.9635 - val_loss: 0.3386 - val_accuracy: 0.9450\n",
            "Epoch 36/100\n",
            "375/375 [==============================] - 2s 5ms/step - loss: 0.2668 - accuracy: 0.9638 - val_loss: 0.3258 - val_accuracy: 0.9509\n",
            "Epoch 37/100\n",
            "375/375 [==============================] - 2s 5ms/step - loss: 0.2500 - accuracy: 0.9682 - val_loss: 0.3624 - val_accuracy: 0.9392\n",
            "Epoch 38/100\n",
            "375/375 [==============================] - 2s 4ms/step - loss: 0.2640 - accuracy: 0.9635 - val_loss: 0.3752 - val_accuracy: 0.9368\n",
            "Epoch 39/100\n",
            "375/375 [==============================] - 3s 8ms/step - loss: 0.2634 - accuracy: 0.9653 - val_loss: 0.3810 - val_accuracy: 0.9360\n",
            "Epoch 40/100\n",
            "375/375 [==============================] - 2s 5ms/step - loss: 0.2507 - accuracy: 0.9670 - val_loss: 0.3238 - val_accuracy: 0.9477\n",
            "Epoch 41/100\n",
            "375/375 [==============================] - 2s 5ms/step - loss: 0.2542 - accuracy: 0.9657 - val_loss: 0.3344 - val_accuracy: 0.9459\n",
            "Epoch 42/100\n",
            "375/375 [==============================] - 2s 4ms/step - loss: 0.2600 - accuracy: 0.9657 - val_loss: 0.3860 - val_accuracy: 0.9325\n",
            "Epoch 43/100\n",
            "375/375 [==============================] - 2s 4ms/step - loss: 0.2577 - accuracy: 0.9643 - val_loss: 0.3228 - val_accuracy: 0.9528\n",
            "Epoch 44/100\n",
            "375/375 [==============================] - 2s 5ms/step - loss: 0.2439 - accuracy: 0.9688 - val_loss: 0.3053 - val_accuracy: 0.9526\n",
            "Epoch 45/100\n",
            "375/375 [==============================] - 2s 5ms/step - loss: 0.2458 - accuracy: 0.9656 - val_loss: 0.3925 - val_accuracy: 0.9271\n",
            "Epoch 46/100\n",
            "375/375 [==============================] - 3s 7ms/step - loss: 0.2477 - accuracy: 0.9666 - val_loss: 0.3520 - val_accuracy: 0.9400\n",
            "Epoch 47/100\n",
            "375/375 [==============================] - 2s 5ms/step - loss: 0.2537 - accuracy: 0.9649 - val_loss: 0.3530 - val_accuracy: 0.9408\n",
            "Epoch 48/100\n",
            "375/375 [==============================] - 2s 5ms/step - loss: 0.2519 - accuracy: 0.9647 - val_loss: 0.3267 - val_accuracy: 0.9481\n",
            "Epoch 49/100\n",
            "375/375 [==============================] - 2s 5ms/step - loss: 0.2444 - accuracy: 0.9670 - val_loss: 0.2914 - val_accuracy: 0.9533\n",
            "Epoch 50/100\n",
            "375/375 [==============================] - 2s 4ms/step - loss: 0.2391 - accuracy: 0.9689 - val_loss: 0.3458 - val_accuracy: 0.9433\n",
            "Epoch 51/100\n",
            "375/375 [==============================] - 2s 5ms/step - loss: 0.2520 - accuracy: 0.9638 - val_loss: 0.3398 - val_accuracy: 0.9467\n",
            "Epoch 52/100\n",
            "375/375 [==============================] - 3s 8ms/step - loss: 0.2447 - accuracy: 0.9666 - val_loss: 0.3113 - val_accuracy: 0.9493\n",
            "Epoch 53/100\n",
            "375/375 [==============================] - 2s 5ms/step - loss: 0.2413 - accuracy: 0.9669 - val_loss: 0.2991 - val_accuracy: 0.9490\n",
            "Epoch 54/100\n",
            "375/375 [==============================] - 2s 5ms/step - loss: 0.2368 - accuracy: 0.9669 - val_loss: 0.3188 - val_accuracy: 0.9493\n",
            "Epoch 55/100\n",
            "375/375 [==============================] - 2s 5ms/step - loss: 0.2392 - accuracy: 0.9677 - val_loss: 0.3358 - val_accuracy: 0.9448\n",
            "Epoch 56/100\n",
            "375/375 [==============================] - 2s 5ms/step - loss: 0.2391 - accuracy: 0.9664 - val_loss: 0.3447 - val_accuracy: 0.9385\n",
            "Epoch 57/100\n",
            "375/375 [==============================] - 2s 5ms/step - loss: 0.2518 - accuracy: 0.9651 - val_loss: 0.2902 - val_accuracy: 0.9559\n",
            "Epoch 58/100\n",
            "375/375 [==============================] - 2s 7ms/step - loss: 0.2287 - accuracy: 0.9703 - val_loss: 0.3538 - val_accuracy: 0.9370\n",
            "Epoch 59/100\n",
            "375/375 [==============================] - 3s 7ms/step - loss: 0.2407 - accuracy: 0.9647 - val_loss: 0.3958 - val_accuracy: 0.9326\n",
            "Epoch 60/100\n",
            "375/375 [==============================] - 2s 4ms/step - loss: 0.2353 - accuracy: 0.9685 - val_loss: 0.3243 - val_accuracy: 0.9463\n",
            "Epoch 61/100\n",
            "375/375 [==============================] - 2s 4ms/step - loss: 0.2625 - accuracy: 0.9598 - val_loss: 0.3185 - val_accuracy: 0.9493\n",
            "Epoch 62/100\n",
            "375/375 [==============================] - 2s 5ms/step - loss: 0.2269 - accuracy: 0.9712 - val_loss: 0.3712 - val_accuracy: 0.9341\n",
            "Epoch 63/100\n",
            "375/375 [==============================] - 2s 5ms/step - loss: 0.2399 - accuracy: 0.9653 - val_loss: 0.3359 - val_accuracy: 0.9432\n",
            "Epoch 64/100\n",
            "375/375 [==============================] - 2s 5ms/step - loss: 0.2418 - accuracy: 0.9657 - val_loss: 0.3251 - val_accuracy: 0.9457\n",
            "Epoch 65/100\n",
            "375/375 [==============================] - 3s 9ms/step - loss: 0.2525 - accuracy: 0.9635 - val_loss: 0.3191 - val_accuracy: 0.9490\n",
            "Epoch 66/100\n",
            "375/375 [==============================] - 2s 5ms/step - loss: 0.2197 - accuracy: 0.9728 - val_loss: 0.3033 - val_accuracy: 0.9497\n",
            "Epoch 67/100\n",
            "375/375 [==============================] - 2s 5ms/step - loss: 0.2466 - accuracy: 0.9643 - val_loss: 0.3089 - val_accuracy: 0.9483\n",
            "Epoch 68/100\n",
            "375/375 [==============================] - 2s 5ms/step - loss: 0.2283 - accuracy: 0.9679 - val_loss: 0.3144 - val_accuracy: 0.9518\n",
            "Epoch 69/100\n",
            "375/375 [==============================] - 2s 5ms/step - loss: 0.2365 - accuracy: 0.9670 - val_loss: 0.3347 - val_accuracy: 0.9428\n",
            "Epoch 70/100\n",
            "375/375 [==============================] - 2s 5ms/step - loss: 0.2329 - accuracy: 0.9678 - val_loss: 0.3384 - val_accuracy: 0.9435\n",
            "Epoch 71/100\n",
            "375/375 [==============================] - 3s 8ms/step - loss: 0.2355 - accuracy: 0.9657 - val_loss: 0.3450 - val_accuracy: 0.9430\n",
            "Epoch 72/100\n",
            "375/375 [==============================] - 2s 5ms/step - loss: 0.2255 - accuracy: 0.9699 - val_loss: 0.3522 - val_accuracy: 0.9389\n",
            "Epoch 73/100\n",
            "375/375 [==============================] - 2s 5ms/step - loss: 0.2357 - accuracy: 0.9678 - val_loss: 0.3566 - val_accuracy: 0.9379\n",
            "Epoch 74/100\n",
            "375/375 [==============================] - 2s 5ms/step - loss: 0.2297 - accuracy: 0.9688 - val_loss: 0.3466 - val_accuracy: 0.9387\n",
            "Epoch 75/100\n",
            "375/375 [==============================] - 2s 5ms/step - loss: 0.2505 - accuracy: 0.9636 - val_loss: 0.3089 - val_accuracy: 0.9462\n",
            "Epoch 76/100\n",
            "375/375 [==============================] - 2s 5ms/step - loss: 0.2288 - accuracy: 0.9690 - val_loss: 0.3211 - val_accuracy: 0.9487\n",
            "Epoch 77/100\n",
            "375/375 [==============================] - 3s 8ms/step - loss: 0.2351 - accuracy: 0.9688 - val_loss: 0.2976 - val_accuracy: 0.9525\n",
            "Epoch 78/100\n",
            "375/375 [==============================] - 2s 5ms/step - loss: 0.2202 - accuracy: 0.9698 - val_loss: 0.3103 - val_accuracy: 0.9485\n",
            "Epoch 79/100\n",
            "375/375 [==============================] - 2s 5ms/step - loss: 0.2280 - accuracy: 0.9678 - val_loss: 0.3245 - val_accuracy: 0.9461\n",
            "Epoch 80/100\n",
            "375/375 [==============================] - 2s 5ms/step - loss: 0.2376 - accuracy: 0.9675 - val_loss: 0.3349 - val_accuracy: 0.9411\n",
            "Epoch 81/100\n",
            "375/375 [==============================] - 2s 5ms/step - loss: 0.2200 - accuracy: 0.9712 - val_loss: 0.3376 - val_accuracy: 0.9445\n",
            "Epoch 82/100\n",
            "375/375 [==============================] - 2s 5ms/step - loss: 0.2383 - accuracy: 0.9663 - val_loss: 0.3098 - val_accuracy: 0.9516\n",
            "Epoch 83/100\n",
            "375/375 [==============================] - 3s 8ms/step - loss: 0.2281 - accuracy: 0.9691 - val_loss: 0.3457 - val_accuracy: 0.9414\n",
            "Epoch 84/100\n",
            "375/375 [==============================] - 2s 5ms/step - loss: 0.2349 - accuracy: 0.9654 - val_loss: 0.3100 - val_accuracy: 0.9501\n",
            "Epoch 85/100\n",
            "375/375 [==============================] - 2s 5ms/step - loss: 0.2188 - accuracy: 0.9713 - val_loss: 0.3712 - val_accuracy: 0.9348\n",
            "Epoch 86/100\n",
            "375/375 [==============================] - 2s 5ms/step - loss: 0.2460 - accuracy: 0.9638 - val_loss: 0.3219 - val_accuracy: 0.9473\n",
            "Epoch 87/100\n",
            "375/375 [==============================] - 2s 5ms/step - loss: 0.2203 - accuracy: 0.9704 - val_loss: 0.3475 - val_accuracy: 0.9400\n",
            "Epoch 88/100\n",
            "375/375 [==============================] - 2s 5ms/step - loss: 0.2263 - accuracy: 0.9683 - val_loss: 0.3164 - val_accuracy: 0.9468\n",
            "Epoch 89/100\n",
            "375/375 [==============================] - 3s 7ms/step - loss: 0.2292 - accuracy: 0.9675 - val_loss: 0.3210 - val_accuracy: 0.9471\n",
            "Epoch 90/100\n",
            "375/375 [==============================] - 2s 6ms/step - loss: 0.2254 - accuracy: 0.9695 - val_loss: 0.3553 - val_accuracy: 0.9413\n",
            "Epoch 91/100\n",
            "375/375 [==============================] - 2s 5ms/step - loss: 0.2243 - accuracy: 0.9697 - val_loss: 0.3173 - val_accuracy: 0.9477\n",
            "Epoch 92/100\n",
            "375/375 [==============================] - 2s 5ms/step - loss: 0.2354 - accuracy: 0.9677 - val_loss: 0.3326 - val_accuracy: 0.9434\n",
            "Epoch 93/100\n",
            "375/375 [==============================] - 2s 5ms/step - loss: 0.2231 - accuracy: 0.9674 - val_loss: 0.3456 - val_accuracy: 0.9406\n",
            "Epoch 94/100\n",
            "375/375 [==============================] - 2s 5ms/step - loss: 0.2221 - accuracy: 0.9694 - val_loss: 0.3627 - val_accuracy: 0.9315\n",
            "Epoch 95/100\n",
            "375/375 [==============================] - 2s 5ms/step - loss: 0.2383 - accuracy: 0.9662 - val_loss: 0.3558 - val_accuracy: 0.9362\n",
            "Epoch 96/100\n",
            "375/375 [==============================] - 3s 9ms/step - loss: 0.2268 - accuracy: 0.9697 - val_loss: 0.3293 - val_accuracy: 0.9461\n",
            "Epoch 97/100\n",
            "375/375 [==============================] - 2s 5ms/step - loss: 0.2229 - accuracy: 0.9685 - val_loss: 0.3244 - val_accuracy: 0.9464\n",
            "Epoch 98/100\n",
            "375/375 [==============================] - 2s 5ms/step - loss: 0.2368 - accuracy: 0.9662 - val_loss: 0.3092 - val_accuracy: 0.9513\n",
            "Epoch 99/100\n",
            "375/375 [==============================] - 2s 5ms/step - loss: 0.2391 - accuracy: 0.9681 - val_loss: 0.3250 - val_accuracy: 0.9460\n",
            "Epoch 100/100\n",
            "375/375 [==============================] - 2s 5ms/step - loss: 0.2214 - accuracy: 0.9689 - val_loss: 0.3273 - val_accuracy: 0.9420\n"
          ]
        }
      ]
    },
    {
      "cell_type": "code",
      "source": [
        "y_predicted = model.predict(x_test)"
      ],
      "metadata": {
        "id": "F5F71Q7wbukE",
        "colab": {
          "base_uri": "https://localhost:8080/"
        },
        "outputId": "59cfa248-c2f0-44ac-b821-c9eecc938950"
      },
      "execution_count": null,
      "outputs": [
        {
          "output_type": "stream",
          "name": "stdout",
          "text": [
            "313/313 [==============================] - 1s 2ms/step\n"
          ]
        }
      ]
    },
    {
      "cell_type": "code",
      "source": [
        "y_pr = []\n",
        "for i in range(len(y_predicted)):\n",
        "  y_pr.append(y_predicted[i].argmax())"
      ],
      "metadata": {
        "id": "Ib8ocV_5oRxN"
      },
      "execution_count": null,
      "outputs": []
    },
    {
      "cell_type": "code",
      "source": [
        "def test_accuracy(yt,yp):\n",
        "  flag = 0\n",
        "  for i in range(len(yt)):\n",
        "    if yt[i] == yp[i] : flag+= 1\n",
        "  error_in_perc = ( flag / len(yt)  )\n",
        "  return error_in_perc\n"
      ],
      "metadata": {
        "id": "0nsk4Bhrpojy"
      },
      "execution_count": null,
      "outputs": []
    },
    {
      "cell_type": "code",
      "source": [
        "test_accuracy(y_test,y_pr)"
      ],
      "metadata": {
        "colab": {
          "base_uri": "https://localhost:8080/"
        },
        "id": "ffbnsUfcp_in",
        "outputId": "e98880cb-bce3-46d5-fdd9-dd6ed15e7bb6"
      },
      "execution_count": null,
      "outputs": [
        {
          "output_type": "execute_result",
          "data": {
            "text/plain": [
              "0.942"
            ]
          },
          "metadata": {},
          "execution_count": 59
        }
      ]
    },
    {
      "cell_type": "code",
      "source": [
        "loss = history.history['loss']\n",
        "acc = history.history['accuracy']\n",
        "\n",
        "val_loss = history.history['val_loss']\n",
        "val_acc = history.history['val_accuracy']"
      ],
      "metadata": {
        "id": "81DE5gQGrUv2"
      },
      "execution_count": null,
      "outputs": []
    },
    {
      "cell_type": "code",
      "source": [
        "epochs = range(1,101,1)\n",
        "plt.figure(figsize = (10,5))\n",
        "plt.subplot(1,2,1)\n",
        "plt.plot(epochs,acc,label = 'Training Accuracy',c= 'b')\n",
        "plt.plot(epochs,val_acc,label = 'Validation Accuracy',c= 'orange')\n",
        "plt.xlabel('No of epochs')\n",
        "plt.ylabel('Accuracy')\n",
        "plt.title('Training Accuracy vs Validation Accuracy')\n",
        "plt.grid('on')\n",
        "plt.legend()\n",
        "\n",
        "\n",
        "plt.subplot(1,2,2)\n",
        "plt.plot(epochs,loss,label = 'Training Loss',c= 'b')\n",
        "plt.plot(epochs,val_loss,label = 'Validation Loss',c= 'orange')\n",
        "plt.xlabel('No of epochs')\n",
        "plt.ylabel('Loss')\n",
        "plt.title('Training Loss vs Validation Loss')\n",
        "plt.grid('on')\n",
        "plt.legend()"
      ],
      "metadata": {
        "colab": {
          "base_uri": "https://localhost:8080/",
          "height": 504
        },
        "id": "pb5U9H2C0tqh",
        "outputId": "992d13f5-33f3-4c17-c672-8cd5a54374b4"
      },
      "execution_count": null,
      "outputs": [
        {
          "output_type": "execute_result",
          "data": {
            "text/plain": [
              "<matplotlib.legend.Legend at 0x7f9aa13665c0>"
            ]
          },
          "metadata": {},
          "execution_count": 61
        },
        {
          "output_type": "display_data",
          "data": {
            "text/plain": [
              "<Figure size 1000x500 with 2 Axes>"
            ],
            "image/png": "[encoded data removed]"
          },
          "metadata": {}
        }
      ]
    },
    {
      "cell_type": "code",
      "source": [],
      "metadata": {
        "id": "cCZM7iqa02rR"
      },
      "execution_count": null,
      "outputs": []
    }
  ]
}